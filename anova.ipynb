{
 "cells": [
  {
   "cell_type": "code",
   "execution_count": 1,
   "metadata": {},
   "outputs": [],
   "source": [
    "import pandas as pd"
   ]
  },
  {
   "cell_type": "code",
   "execution_count": 2,
   "metadata": {},
   "outputs": [],
   "source": [
    "import numpy as np"
   ]
  },
  {
   "cell_type": "code",
   "execution_count": 3,
   "metadata": {},
   "outputs": [],
   "source": [
    "from statsmodels.formula.api import ols"
   ]
  },
  {
   "cell_type": "code",
   "execution_count": 5,
   "metadata": {},
   "outputs": [],
   "source": [
    "from statsmodels.stats.anova import _get_covariance,anova_lm\n",
    "import matplotlib as plt\n",
    "import seaborn as sns"
   ]
  },
  {
   "cell_type": "code",
   "execution_count": 6,
   "metadata": {},
   "outputs": [],
   "source": [
    "diet=pd.read_csv(\"E:/Diet.csv\")"
   ]
  },
  {
   "cell_type": "code",
   "execution_count": 7,
   "metadata": {},
   "outputs": [
    {
     "data": {
      "text/html": [
       "<div>\n",
       "<style scoped>\n",
       "    .dataframe tbody tr th:only-of-type {\n",
       "        vertical-align: middle;\n",
       "    }\n",
       "\n",
       "    .dataframe tbody tr th {\n",
       "        vertical-align: top;\n",
       "    }\n",
       "\n",
       "    .dataframe thead th {\n",
       "        text-align: right;\n",
       "    }\n",
       "</style>\n",
       "<table border=\"1\" class=\"dataframe\">\n",
       "  <thead>\n",
       "    <tr style=\"text-align: right;\">\n",
       "      <th></th>\n",
       "      <th>gender</th>\n",
       "      <th>Diet</th>\n",
       "      <th>weight</th>\n",
       "      <th>weight6weeks</th>\n",
       "    </tr>\n",
       "  </thead>\n",
       "  <tbody>\n",
       "    <tr>\n",
       "      <th>0</th>\n",
       "      <td>M</td>\n",
       "      <td>B</td>\n",
       "      <td>60</td>\n",
       "      <td>60.0</td>\n",
       "    </tr>\n",
       "    <tr>\n",
       "      <th>1</th>\n",
       "      <td>M</td>\n",
       "      <td>B</td>\n",
       "      <td>103</td>\n",
       "      <td>103.0</td>\n",
       "    </tr>\n",
       "    <tr>\n",
       "      <th>2</th>\n",
       "      <td>F</td>\n",
       "      <td>A</td>\n",
       "      <td>58</td>\n",
       "      <td>54.2</td>\n",
       "    </tr>\n",
       "    <tr>\n",
       "      <th>3</th>\n",
       "      <td>F</td>\n",
       "      <td>A</td>\n",
       "      <td>60</td>\n",
       "      <td>54.0</td>\n",
       "    </tr>\n",
       "    <tr>\n",
       "      <th>4</th>\n",
       "      <td>F</td>\n",
       "      <td>A</td>\n",
       "      <td>64</td>\n",
       "      <td>63.3</td>\n",
       "    </tr>\n",
       "    <tr>\n",
       "      <th>...</th>\n",
       "      <td>...</td>\n",
       "      <td>...</td>\n",
       "      <td>...</td>\n",
       "      <td>...</td>\n",
       "    </tr>\n",
       "    <tr>\n",
       "      <th>73</th>\n",
       "      <td>M</td>\n",
       "      <td>C</td>\n",
       "      <td>83</td>\n",
       "      <td>80.2</td>\n",
       "    </tr>\n",
       "    <tr>\n",
       "      <th>74</th>\n",
       "      <td>M</td>\n",
       "      <td>C</td>\n",
       "      <td>84</td>\n",
       "      <td>79.9</td>\n",
       "    </tr>\n",
       "    <tr>\n",
       "      <th>75</th>\n",
       "      <td>M</td>\n",
       "      <td>C</td>\n",
       "      <td>85</td>\n",
       "      <td>79.7</td>\n",
       "    </tr>\n",
       "    <tr>\n",
       "      <th>76</th>\n",
       "      <td>M</td>\n",
       "      <td>C</td>\n",
       "      <td>87</td>\n",
       "      <td>77.8</td>\n",
       "    </tr>\n",
       "    <tr>\n",
       "      <th>77</th>\n",
       "      <td>M</td>\n",
       "      <td>C</td>\n",
       "      <td>88</td>\n",
       "      <td>81.9</td>\n",
       "    </tr>\n",
       "  </tbody>\n",
       "</table>\n",
       "<p>78 rows × 4 columns</p>\n",
       "</div>"
      ],
      "text/plain": [
       "   gender Diet  weight  weight6weeks\n",
       "0       M    B      60          60.0\n",
       "1       M    B     103         103.0\n",
       "2       F    A      58          54.2\n",
       "3       F    A      60          54.0\n",
       "4       F    A      64          63.3\n",
       "..    ...  ...     ...           ...\n",
       "73      M    C      83          80.2\n",
       "74      M    C      84          79.9\n",
       "75      M    C      85          79.7\n",
       "76      M    C      87          77.8\n",
       "77      M    C      88          81.9\n",
       "\n",
       "[78 rows x 4 columns]"
      ]
     },
     "execution_count": 7,
     "metadata": {},
     "output_type": "execute_result"
    }
   ],
   "source": [
    "diet"
   ]
  },
  {
   "cell_type": "code",
   "execution_count": 8,
   "metadata": {},
   "outputs": [
    {
     "data": {
      "text/plain": [
       "B    27\n",
       "C    27\n",
       "A    24\n",
       "Name: Diet, dtype: int64"
      ]
     },
     "execution_count": 8,
     "metadata": {},
     "output_type": "execute_result"
    }
   ],
   "source": [
    "diet['Diet'].value_counts()"
   ]
  },
  {
   "cell_type": "code",
   "execution_count": 10,
   "metadata": {},
   "outputs": [
    {
     "data": {
      "text/plain": [
       "<seaborn.axisgrid.FacetGrid at 0x28c7b389220>"
      ]
     },
     "execution_count": 10,
     "metadata": {},
     "output_type": "execute_result"
    },
    {
     "data": {
      "image/png": "[encoded data removed]",
      "text/plain": [
       "<Figure size 404.625x360 with 1 Axes>"
      ]
     },
     "metadata": {
      "needs_background": "light"
     },
     "output_type": "display_data"
    }
   ],
   "source": [
    "sns.catplot(x=\"Diet\", y=\"weight\", hue='gender', kind=\"box\", data=diet)\n"
   ]
  },
  {
   "cell_type": "code",
   "execution_count": 11,
   "metadata": {},
   "outputs": [
    {
     "data": {
      "text/html": [
       "<div>\n",
       "<style scoped>\n",
       "    .dataframe tbody tr th:only-of-type {\n",
       "        vertical-align: middle;\n",
       "    }\n",
       "\n",
       "    .dataframe tbody tr th {\n",
       "        vertical-align: top;\n",
       "    }\n",
       "\n",
       "    .dataframe thead th {\n",
       "        text-align: right;\n",
       "    }\n",
       "</style>\n",
       "<table border=\"1\" class=\"dataframe\">\n",
       "  <thead>\n",
       "    <tr style=\"text-align: right;\">\n",
       "      <th></th>\n",
       "      <th>df</th>\n",
       "      <th>sum_sq</th>\n",
       "      <th>mean_sq</th>\n",
       "      <th>F</th>\n",
       "      <th>PR(&gt;F)</th>\n",
       "    </tr>\n",
       "  </thead>\n",
       "  <tbody>\n",
       "    <tr>\n",
       "      <th>C(gender)</th>\n",
       "      <td>1.0</td>\n",
       "      <td>2854.201553</td>\n",
       "      <td>2854.201553</td>\n",
       "      <td>66.162186</td>\n",
       "      <td>6.097209e-12</td>\n",
       "    </tr>\n",
       "    <tr>\n",
       "      <th>Residual</th>\n",
       "      <td>76.0</td>\n",
       "      <td>3278.599601</td>\n",
       "      <td>43.139468</td>\n",
       "      <td>NaN</td>\n",
       "      <td>NaN</td>\n",
       "    </tr>\n",
       "  </tbody>\n",
       "</table>\n",
       "</div>"
      ],
      "text/plain": [
       "             df       sum_sq      mean_sq          F        PR(>F)\n",
       "C(gender)   1.0  2854.201553  2854.201553  66.162186  6.097209e-12\n",
       "Residual   76.0  3278.599601    43.139468        NaN           NaN"
      ]
     },
     "execution_count": 11,
     "metadata": {},
     "output_type": "execute_result"
    }
   ],
   "source": [
    "formula= 'weight6weeks ~ C(gender)'\n",
    "model= ols(formula,diet).fit()\n",
    "aov_table=anova_lm(model)\n",
    "aov_table"
   ]
  },
  {
   "cell_type": "code",
   "execution_count": 12,
   "metadata": {},
   "outputs": [
    {
     "data": {
      "text/html": [
       "<div>\n",
       "<style scoped>\n",
       "    .dataframe tbody tr th:only-of-type {\n",
       "        vertical-align: middle;\n",
       "    }\n",
       "\n",
       "    .dataframe tbody tr th {\n",
       "        vertical-align: top;\n",
       "    }\n",
       "\n",
       "    .dataframe thead th {\n",
       "        text-align: right;\n",
       "    }\n",
       "</style>\n",
       "<table border=\"1\" class=\"dataframe\">\n",
       "  <thead>\n",
       "    <tr style=\"text-align: right;\">\n",
       "      <th></th>\n",
       "      <th>df</th>\n",
       "      <th>sum_sq</th>\n",
       "      <th>mean_sq</th>\n",
       "      <th>F</th>\n",
       "      <th>PR(&gt;F)</th>\n",
       "    </tr>\n",
       "  </thead>\n",
       "  <tbody>\n",
       "    <tr>\n",
       "      <th>C(gender)</th>\n",
       "      <td>1.0</td>\n",
       "      <td>2804.058685</td>\n",
       "      <td>2804.058685</td>\n",
       "      <td>69.748365</td>\n",
       "      <td>2.334759e-12</td>\n",
       "    </tr>\n",
       "    <tr>\n",
       "      <th>Residual</th>\n",
       "      <td>76.0</td>\n",
       "      <td>3055.390033</td>\n",
       "      <td>40.202500</td>\n",
       "      <td>NaN</td>\n",
       "      <td>NaN</td>\n",
       "    </tr>\n",
       "  </tbody>\n",
       "</table>\n",
       "</div>"
      ],
      "text/plain": [
       "             df       sum_sq      mean_sq          F        PR(>F)\n",
       "C(gender)   1.0  2804.058685  2804.058685  69.748365  2.334759e-12\n",
       "Residual   76.0  3055.390033    40.202500        NaN           NaN"
      ]
     },
     "execution_count": 12,
     "metadata": {},
     "output_type": "execute_result"
    }
   ],
   "source": [
    "formula= 'weight ~ C(gender)'\n",
    "model= ols(formula,diet).fit()\n",
    "aov_table=anova_lm(model)\n",
    "aov_table"
   ]
  },
  {
   "cell_type": "code",
   "execution_count": 13,
   "metadata": {},
   "outputs": [
    {
     "data": {
      "text/html": [
       "<div>\n",
       "<style scoped>\n",
       "    .dataframe tbody tr th:only-of-type {\n",
       "        vertical-align: middle;\n",
       "    }\n",
       "\n",
       "    .dataframe tbody tr th {\n",
       "        vertical-align: top;\n",
       "    }\n",
       "\n",
       "    .dataframe thead th {\n",
       "        text-align: right;\n",
       "    }\n",
       "</style>\n",
       "<table border=\"1\" class=\"dataframe\">\n",
       "  <thead>\n",
       "    <tr style=\"text-align: right;\">\n",
       "      <th></th>\n",
       "      <th>df</th>\n",
       "      <th>sum_sq</th>\n",
       "      <th>mean_sq</th>\n",
       "      <th>F</th>\n",
       "      <th>PR(&gt;F)</th>\n",
       "    </tr>\n",
       "  </thead>\n",
       "  <tbody>\n",
       "    <tr>\n",
       "      <th>C(gender)</th>\n",
       "      <td>1.0</td>\n",
       "      <td>2854.201553</td>\n",
       "      <td>2854.201553</td>\n",
       "      <td>65.765339</td>\n",
       "      <td>8.037802e-12</td>\n",
       "    </tr>\n",
       "    <tr>\n",
       "      <th>C(Diet)</th>\n",
       "      <td>2.0</td>\n",
       "      <td>67.015520</td>\n",
       "      <td>33.507760</td>\n",
       "      <td>0.772072</td>\n",
       "      <td>4.657403e-01</td>\n",
       "    </tr>\n",
       "    <tr>\n",
       "      <th>Residual</th>\n",
       "      <td>74.0</td>\n",
       "      <td>3211.584082</td>\n",
       "      <td>43.399785</td>\n",
       "      <td>NaN</td>\n",
       "      <td>NaN</td>\n",
       "    </tr>\n",
       "  </tbody>\n",
       "</table>\n",
       "</div>"
      ],
      "text/plain": [
       "             df       sum_sq      mean_sq          F        PR(>F)\n",
       "C(gender)   1.0  2854.201553  2854.201553  65.765339  8.037802e-12\n",
       "C(Diet)     2.0    67.015520    33.507760   0.772072  4.657403e-01\n",
       "Residual   74.0  3211.584082    43.399785        NaN           NaN"
      ]
     },
     "execution_count": 13,
     "metadata": {},
     "output_type": "execute_result"
    }
   ],
   "source": [
    "formula= 'weight6weeks ~ C(gender) + C(Diet)'\n",
    "model= ols(formula,diet).fit()\n",
    "aov_table=anova_lm(model)\n",
    "aov_table"
   ]
  },
  {
   "cell_type": "code",
   "execution_count": 14,
   "metadata": {},
   "outputs": [
    {
     "data": {
      "image/png": "[encoded data removed]",
      "text/plain": [
       "<Figure size 432x288 with 1 Axes>"
      ]
     },
     "metadata": {
      "needs_background": "light"
     },
     "output_type": "display_data"
    }
   ],
   "source": [
    "sns.pointplot(x='Diet', y='weight6weeks', data=diet, hue='gender',ci=None);"
   ]
  },
  {
   "cell_type": "code",
   "execution_count": 15,
   "metadata": {},
   "outputs": [
    {
     "data": {
      "text/html": [
       "<div>\n",
       "<style scoped>\n",
       "    .dataframe tbody tr th:only-of-type {\n",
       "        vertical-align: middle;\n",
       "    }\n",
       "\n",
       "    .dataframe tbody tr th {\n",
       "        vertical-align: top;\n",
       "    }\n",
       "\n",
       "    .dataframe thead th {\n",
       "        text-align: right;\n",
       "    }\n",
       "</style>\n",
       "<table border=\"1\" class=\"dataframe\">\n",
       "  <thead>\n",
       "    <tr style=\"text-align: right;\">\n",
       "      <th></th>\n",
       "      <th>df</th>\n",
       "      <th>sum_sq</th>\n",
       "      <th>mean_sq</th>\n",
       "      <th>F</th>\n",
       "      <th>PR(&gt;F)</th>\n",
       "    </tr>\n",
       "  </thead>\n",
       "  <tbody>\n",
       "    <tr>\n",
       "      <th>C(gender)</th>\n",
       "      <td>1.0</td>\n",
       "      <td>2854.201553</td>\n",
       "      <td>2854.201553</td>\n",
       "      <td>64.198902</td>\n",
       "      <td>1.453627e-11</td>\n",
       "    </tr>\n",
       "    <tr>\n",
       "      <th>C(Diet)</th>\n",
       "      <td>2.0</td>\n",
       "      <td>67.015520</td>\n",
       "      <td>33.507760</td>\n",
       "      <td>0.753682</td>\n",
       "      <td>4.743066e-01</td>\n",
       "    </tr>\n",
       "    <tr>\n",
       "      <th>C(gender):C(Diet)</th>\n",
       "      <td>2.0</td>\n",
       "      <td>10.555631</td>\n",
       "      <td>5.277816</td>\n",
       "      <td>0.118713</td>\n",
       "      <td>8.882364e-01</td>\n",
       "    </tr>\n",
       "    <tr>\n",
       "      <th>Residual</th>\n",
       "      <td>72.0</td>\n",
       "      <td>3201.028451</td>\n",
       "      <td>44.458728</td>\n",
       "      <td>NaN</td>\n",
       "      <td>NaN</td>\n",
       "    </tr>\n",
       "  </tbody>\n",
       "</table>\n",
       "</div>"
      ],
      "text/plain": [
       "                     df       sum_sq      mean_sq          F        PR(>F)\n",
       "C(gender)           1.0  2854.201553  2854.201553  64.198902  1.453627e-11\n",
       "C(Diet)             2.0    67.015520    33.507760   0.753682  4.743066e-01\n",
       "C(gender):C(Diet)   2.0    10.555631     5.277816   0.118713  8.882364e-01\n",
       "Residual           72.0  3201.028451    44.458728        NaN           NaN"
      ]
     },
     "execution_count": 15,
     "metadata": {},
     "output_type": "execute_result"
    }
   ],
   "source": [
    "formula= 'weight6weeks ~ C(gender) + C(Diet)+ C(gender):C(Diet)'\n",
    "model= ols(formula,diet).fit()\n",
    "aov_table=anova_lm(model)\n",
    "aov_table"
   ]
  },
  {
   "cell_type": "code",
   "execution_count": null,
   "metadata": {},
   "outputs": [],
   "source": []
  }
 ],
 "metadata": {
  "kernelspec": {
   "display_name": "Python 3",
   "language": "python",
   "name": "python3"
  },
  "language_info": {
   "codemirror_mode": {
    "name": "ipython",
    "version": 3
   },
   "file_extension": ".py",
   "mimetype": "text/x-python",
   "name": "python",
   "nbconvert_exporter": "python",
   "pygments_lexer": "ipython3",
   "version": "3.8.6"
  }
 },
 "nbformat": 4,
 "nbformat_minor": 4
}
